{
 "cells": [
  {
   "cell_type": "markdown",
   "metadata": {},
   "source": [
    "# No. 1"
   ]
  },
  {
   "cell_type": "markdown",
   "metadata": {},
   "source": [
    "if \n",
    "- $x=4$\n",
    "- $y=3$\n",
    "- $z=2$ \n",
    "\n",
    "then\n",
    "\n",
    "$$w=(\\frac{x+y+z}{x \\times y})^z$$"
   ]
  },
  {
   "cell_type": "code",
   "execution_count": 1,
   "metadata": {},
   "outputs": [],
   "source": [
    "# Your solution here\n"
   ]
  },
  {
   "cell_type": "markdown",
   "metadata": {},
   "source": [
    "# No. 2"
   ]
  },
  {
   "cell_type": "markdown",
   "metadata": {},
   "source": [
    "Silahkan masukkan angka berapapun: 5\n",
    "\n",
    "Kuadrat dari 5 = 25"
   ]
  },
  {
   "cell_type": "code",
   "execution_count": 2,
   "metadata": {},
   "outputs": [],
   "source": [
    "# Your solution here"
   ]
  },
  {
   "cell_type": "markdown",
   "metadata": {},
   "source": [
    "# No. 3"
   ]
  },
  {
   "cell_type": "markdown",
   "metadata": {},
   "source": [
    "400 hari.\n",
    "\n",
    "Nyatakan dalam tahun, bulan, minggu, dan hari.\n",
    "\n",
    "*(1 bulan = 30 hari, 1 tahun = 365 hari)"
   ]
  },
  {
   "cell_type": "code",
   "execution_count": 3,
   "metadata": {},
   "outputs": [],
   "source": [
    "# Your solution here"
   ]
  },
  {
   "cell_type": "markdown",
   "metadata": {},
   "source": [
    "# No. 4"
   ]
  },
  {
   "cell_type": "markdown",
   "metadata": {},
   "source": [
    "Saat ini, jumlah usia Andi & Budi = 49 th, dengan rasio usia Andi & budi = 0.4\n",
    "\n",
    "Berapa usia Andi & Budi 2 tahun lagi?"
   ]
  },
  {
   "cell_type": "code",
   "execution_count": null,
   "metadata": {},
   "outputs": [],
   "source": [
    "# Your solution here"
   ]
  },
  {
   "cell_type": "markdown",
   "metadata": {},
   "source": [
    "# No. 5"
   ]
  },
  {
   "cell_type": "markdown",
   "metadata": {},
   "source": [
    "Jarak mobil A & B = 120 km. A berjalan 60 km/jam dari timur. B berjalan 40 km/jam dari barat. A & B start pukul 9 WITA.\n",
    "\n",
    "Jam berapa A & B bertabrakan"
   ]
  },
  {
   "cell_type": "code",
   "execution_count": null,
   "metadata": {},
   "outputs": [],
   "source": [
    "# Your solution here"
   ]
  },
  {
   "cell_type": "markdown",
   "metadata": {},
   "source": [
    "# No. 6"
   ]
  },
  {
   "cell_type": "markdown",
   "metadata": {},
   "source": [
    "- masukkan jumlah apel: 2\n",
    "- masukkan jumlah jeruk: 3\n",
    "- masukkan jumlah anggur: 5\n",
    "\n",
    "Detail belanja\n",
    "\n",
    "- Apel: 2 * 10000 = 20000\n",
    "- Jeruk: 3 * 15000 = 45000\n",
    "- Anggur: 5 * 20000 = 100000\n",
    "\n",
    "Total: 165000"
   ]
  },
  {
   "cell_type": "code",
   "execution_count": 4,
   "metadata": {},
   "outputs": [],
   "source": [
    "# Your solution here"
   ]
  }
 ],
 "metadata": {
  "kernelspec": {
   "display_name": ".env",
   "language": "python",
   "name": "python3"
  },
  "language_info": {
   "codemirror_mode": {
    "name": "ipython",
    "version": 3
   },
   "file_extension": ".py",
   "mimetype": "text/x-python",
   "name": "python",
   "nbconvert_exporter": "python",
   "pygments_lexer": "ipython3",
   "version": "3.9.7"
  }
 },
 "nbformat": 4,
 "nbformat_minor": 2
}
