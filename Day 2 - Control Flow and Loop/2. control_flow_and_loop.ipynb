{
 "cells": [
  {
   "cell_type": "code",
   "execution_count": 1,
   "metadata": {},
   "outputs": [],
   "source": [
    "# This is assignment operator\n",
    "x = 5"
   ]
  },
  {
   "cell_type": "code",
   "execution_count": 3,
   "metadata": {},
   "outputs": [
    {
     "data": {
      "text/plain": [
       "False"
      ]
     },
     "execution_count": 3,
     "metadata": {},
     "output_type": "execute_result"
    }
   ],
   "source": [
    "# this is logical operator\n",
    "x == 6"
   ]
  },
  {
   "cell_type": "code",
   "execution_count": 4,
   "metadata": {},
   "outputs": [
    {
     "data": {
      "text/plain": [
       "bool"
      ]
     },
     "execution_count": 4,
     "metadata": {},
     "output_type": "execute_result"
    }
   ],
   "source": [
    "# check data type for logical operator\n",
    "# Note : Logical operator always has bool data type\n",
    "type(x==5)"
   ]
  },
  {
   "cell_type": "code",
   "execution_count": 6,
   "metadata": {},
   "outputs": [
    {
     "data": {
      "text/plain": [
       "False"
      ]
     },
     "execution_count": 6,
     "metadata": {},
     "output_type": "execute_result"
    }
   ],
   "source": [
    "x1 = 4\n",
    "x2 = 2\n",
    "\n",
    "# logical operator for multi statement\n",
    "# use and to compare two bool values\n",
    "(x1==4) and (x2==1)"
   ]
  },
  {
   "cell_type": "code",
   "execution_count": 7,
   "metadata": {},
   "outputs": [
    {
     "data": {
      "text/plain": [
       "True"
      ]
     },
     "execution_count": 7,
     "metadata": {},
     "output_type": "execute_result"
    }
   ],
   "source": [
    "# use or to compare two bool values\n",
    "(x1==2) or (x2==2)"
   ]
  },
  {
   "cell_type": "markdown",
   "metadata": {},
   "source": [
    "### Gate OR\n",
    "\n",
    "|x1 |x2 |output|\n",
    "|--|--|--|\n",
    "|0 |0 |0|\n",
    "|0 |1 |1|\n",
    "|1 |0 |1|\n",
    "|1 |1 |1|\n",
    "\n",
    "### Gate AND\n",
    "\n",
    "|x1 |x2 |output|\n",
    "|--|--|--|\n",
    "|0 |0 |0|\n",
    "|0 |1 |0|\n",
    "|1 |0 |0|\n",
    "|1 |1 |1|"
   ]
  },
  {
   "cell_type": "code",
   "execution_count": 20,
   "metadata": {},
   "outputs": [
    {
     "data": {
      "text/plain": [
       "True"
      ]
     },
     "execution_count": 20,
     "metadata": {},
     "output_type": "execute_result"
    }
   ],
   "source": [
    "# try less than operator\n",
    "\n",
    "1<2"
   ]
  },
  {
   "cell_type": "code",
   "execution_count": 23,
   "metadata": {},
   "outputs": [
    {
     "name": "stdout",
     "output_type": "stream",
     "text": [
      "x bukanlah satuan\n"
     ]
    }
   ],
   "source": [
    "# control flow practice\n",
    "# each building block will execute if condition is true\n",
    "# and another will be avoided\n",
    "\n",
    "x = 10\n",
    "\n",
    "if x<9:\n",
    "    print(\"x adalah satuan\")\n",
    "else:\n",
    "    print(\"x bukanlah satuan\")"
   ]
  },
  {
   "cell_type": "code",
   "execution_count": 15,
   "metadata": {},
   "outputs": [
    {
     "name": "stdout",
     "output_type": "stream",
     "text": [
      "salah\n"
     ]
    }
   ],
   "source": [
    "# logical operator\n",
    "# <\n",
    "# >\n",
    "# <=\n",
    "# >=\n",
    "# !=\n",
    "\n",
    "x = 4\n",
    "\n",
    "if x == 4: # try to use another logical operator andd see what happen\n",
    "    print(\"benar\")\n",
    "else:\n",
    "    print(\"salah\")"
   ]
  },
  {
   "cell_type": "code",
   "execution_count": 19,
   "metadata": {},
   "outputs": [
    {
     "name": "stdout",
     "output_type": "stream",
     "text": [
      "x bukanlah puluhan\n"
     ]
    }
   ],
   "source": [
    "# control flow with multi statements\n",
    "\n",
    "x = 9\n",
    "\n",
    "if (x>9) and (x<100):\n",
    "    print(\"x adalah puluhan\")\n",
    "else:\n",
    "    print(\"x bukanlah puluhan\")"
   ]
  },
  {
   "cell_type": "code",
   "execution_count": 26,
   "metadata": {},
   "outputs": [
    {
     "name": "stdout",
     "output_type": "stream",
     "text": [
      "9 adalah kelipatan 3\n"
     ]
    }
   ],
   "source": [
    "# user input\n",
    "x = int(input(\"masukkan bilangan : \"))\n",
    "\n",
    "# control flow to check wether a number is a multiple of 3 or not\n",
    "\n",
    "if x%3==0:\n",
    "    print(\"{} adalah kelipatan 3\".format(x))\n",
    "else:\n",
    "    print(\"{} bukan kelipatan 3\".format(x))"
   ]
  },
  {
   "cell_type": "code",
   "execution_count": 32,
   "metadata": {},
   "outputs": [
    {
     "name": "stdout",
     "output_type": "stream",
     "text": [
      "2 adalah bilangan genap\n"
     ]
    }
   ],
   "source": [
    "# user input\n",
    "x = int(input(\"masukkan bilangan : \"))\n",
    "\n",
    "# try to add more than two conditions \n",
    "if x%2==0 and x!=0:\n",
    "    print(\"{} adalah bilangan genap\".format(x))\n",
    "elif x<=0:\n",
    "    print(\"{} adalah 0\".format(x))\n",
    "else:\n",
    "    print(\"{} adalah bilangan ganjil\".format(x))"
   ]
  },
  {
   "cell_type": "code",
   "execution_count": null,
   "metadata": {},
   "outputs": [],
   "source": [
    "# apel = 12000 / kilo\n",
    "# jeruk = 7000 / kilo\n",
    "# mangga = 15000 / kilo\n",
    "\n",
    "# beli 3 kilo apel, 2 kilo jeruk, dan 1 kilo mangga\n",
    "\n",
    "# inputannya uang pembayaran"
   ]
  },
  {
   "cell_type": "markdown",
   "metadata": {},
   "source": [
    "**exercise**\n",
    "\n",
    "user input money you have = ...\n",
    "<br>\n",
    "1st condition = money less than total payment:\n",
    "<br>\n",
    "    print(transaction cancelled)\n",
    "<br>\n",
    "2nd condition =  money equal with total payment:\n",
    "<br>\n",
    "    print(transaksi sukses)\n",
    "<br>\n",
    "3rd condition = money more than total payment:\n",
    "<br>\n",
    "    print(transaksi sukses, kembalian anda sebesar {...})\n"
   ]
  },
  {
   "cell_type": "code",
   "execution_count": 39,
   "metadata": {},
   "outputs": [
    {
     "name": "stdout",
     "output_type": "stream",
     "text": [
      "transaksi dibatalkan, tidak boleh ngutang\n"
     ]
    }
   ],
   "source": [
    "uang_saya = float(input(\"uang saya sebesar : \"))\n",
    "\n",
    "apel = int(input(\"\"))\n",
    "jeruk = int(input(\"\"))\n",
    "mangga = int(input(\"\"))\n",
    "\n",
    "uang_bayar = (apel * 12000) + (jeruk * 7000) + (mangga * 15000)\n",
    "\n",
    "if uang_saya < uang_bayar:\n",
    "    print(\"transaksi dibatalkan, tidak boleh ngutang\")\n",
    "elif uang_saya == uang_bayar:\n",
    "    print(\"transaksi sukses\")\n",
    "elif uang_saya > uang_bayar:\n",
    "    kembalian = uang_saya - uang_bayar\n",
    "    print(\"transaksi sukses, kembalian anda sebesar {}\".format(kembalian))"
   ]
  },
  {
   "cell_type": "markdown",
   "metadata": {},
   "source": [
    "# Looping"
   ]
  },
  {
   "cell_type": "code",
   "execution_count": 42,
   "metadata": {},
   "outputs": [
    {
     "name": "stdout",
     "output_type": "stream",
     "text": [
      "0\n",
      "1\n",
      "2\n",
      "3\n",
      "4\n",
      "5\n",
      "6\n",
      "7\n",
      "8\n",
      "9\n"
     ]
    }
   ],
   "source": [
    "i = 10\n",
    "j = 0\n",
    "\n",
    "while(j<i):\n",
    "    print(j)\n",
    "    j = j + 1"
   ]
  },
  {
   "cell_type": "code",
   "execution_count": 49,
   "metadata": {},
   "outputs": [
    {
     "name": "stdout",
     "output_type": "stream",
     "text": [
      "0\n",
      "1\n",
      "2\n",
      "3\n",
      "4\n",
      "5\n",
      "6\n",
      "7\n",
      "8\n",
      "9\n"
     ]
    }
   ],
   "source": [
    "for i in range(0, 10):\n",
    "    print(i)"
   ]
  },
  {
   "cell_type": "code",
   "execution_count": 50,
   "metadata": {},
   "outputs": [
    {
     "name": "stdout",
     "output_type": "stream",
     "text": [
      "0\n",
      "2\n",
      "4\n",
      "6\n",
      "8\n"
     ]
    }
   ],
   "source": [
    "for i in range(0, 10, 2):\n",
    "    print(i)"
   ]
  },
  {
   "cell_type": "code",
   "execution_count": 54,
   "metadata": {},
   "outputs": [
    {
     "name": "stdout",
     "output_type": "stream",
     "text": [
      "2\n",
      "4\n",
      "6\n",
      "8\n",
      "10\n",
      "12\n",
      "14\n",
      "16\n",
      "18\n",
      "20\n",
      "22\n",
      "24\n",
      "26\n",
      "28\n",
      "30\n",
      "32\n",
      "34\n",
      "36\n",
      "38\n",
      "40\n",
      "42\n",
      "44\n",
      "46\n",
      "48\n",
      "50\n",
      "52\n",
      "54\n",
      "56\n",
      "58\n",
      "60\n",
      "62\n",
      "64\n",
      "66\n",
      "68\n",
      "70\n",
      "72\n",
      "74\n",
      "76\n",
      "78\n",
      "80\n",
      "82\n",
      "84\n",
      "86\n",
      "88\n",
      "90\n",
      "92\n",
      "94\n",
      "96\n",
      "98\n",
      "100\n"
     ]
    }
   ],
   "source": [
    "for i in range(2, 101, 2):\n",
    "    print(i)"
   ]
  },
  {
   "cell_type": "markdown",
   "metadata": {},
   "source": [
    "while():\n",
    "\n",
    "    print(bilangan genap antara 1 sampai 100)"
   ]
  },
  {
   "cell_type": "markdown",
   "metadata": {},
   "source": [
    "print(bilangan prima antara 1 sampai 100)"
   ]
  },
  {
   "cell_type": "code",
   "execution_count": 12,
   "metadata": {},
   "outputs": [
    {
     "name": "stdout",
     "output_type": "stream",
     "text": [
      "not a prime\n",
      "not a prime\n",
      "not a prime\n",
      "a prime\n"
     ]
    }
   ],
   "source": [
    "num = 16\n",
    "\n",
    "if num <= 1:\n",
    "    print(\"not a prime\")\n",
    "elif num >=2 and num<=100:\n",
    "    \n",
    "    for i in range(2, num):\n",
    "        if num%i==0:\n",
    "            print(\"not a prime\")\n",
    "    print(\"a prime\")"
   ]
  },
  {
   "cell_type": "code",
   "execution_count": 9,
   "metadata": {},
   "outputs": [
    {
     "name": "stdout",
     "output_type": "stream",
     "text": [
      "2\n",
      "3\n",
      "5\n",
      "7\n",
      "11\n",
      "13\n",
      "17\n",
      "19\n",
      "23\n",
      "29\n",
      "31\n",
      "37\n",
      "41\n",
      "43\n",
      "47\n",
      "53\n",
      "59\n",
      "61\n",
      "67\n",
      "71\n",
      "73\n",
      "79\n",
      "83\n",
      "89\n",
      "97\n"
     ]
    }
   ],
   "source": [
    "for num in range(1, 101):\n",
    "    if num <= 1:\n",
    "        save=False\n",
    "    elif num==2:\n",
    "        save=True\n",
    "    else:\n",
    "        for i in range(2, num):\n",
    "            if num%i==0:\n",
    "                save=False\n",
    "                break\n",
    "            save=True\n",
    "            \n",
    "    if save:\n",
    "        print(num)"
   ]
  },
  {
   "cell_type": "code",
   "execution_count": 12,
   "metadata": {},
   "outputs": [
    {
     "name": "stdout",
     "output_type": "stream",
     "text": [
      "2\n",
      "3\n",
      "5\n",
      "7\n",
      "11\n",
      "13\n",
      "17\n",
      "19\n",
      "23\n",
      "29\n",
      "31\n",
      "37\n",
      "41\n",
      "43\n",
      "47\n",
      "53\n",
      "59\n",
      "61\n",
      "67\n",
      "71\n",
      "73\n",
      "79\n",
      "83\n",
      "89\n",
      "97\n"
     ]
    }
   ],
   "source": [
    "for num in range(1, 100+1):\n",
    "    if num <=1:\n",
    "        save=False\n",
    "    elif num==2:\n",
    "        save=True\n",
    "    else:\n",
    "        for i in range(2, num):\n",
    "            if num%i==0:\n",
    "                save=False\n",
    "                break\n",
    "            else:\n",
    "                save=True\n",
    "\n",
    "    if save:\n",
    "        print(num)"
   ]
  },
  {
   "cell_type": "code",
   "execution_count": null,
   "metadata": {},
   "outputs": [],
   "source": []
  },
  {
   "cell_type": "code",
   "execution_count": null,
   "metadata": {},
   "outputs": [],
   "source": []
  }
 ],
 "metadata": {
  "kernelspec": {
   "display_name": ".env",
   "language": "python",
   "name": "python3"
  },
  "language_info": {
   "codemirror_mode": {
    "name": "ipython",
    "version": 3
   },
   "file_extension": ".py",
   "mimetype": "text/x-python",
   "name": "python",
   "nbconvert_exporter": "python",
   "pygments_lexer": "ipython3",
   "version": "3.9.7"
  }
 },
 "nbformat": 4,
 "nbformat_minor": 2
}
